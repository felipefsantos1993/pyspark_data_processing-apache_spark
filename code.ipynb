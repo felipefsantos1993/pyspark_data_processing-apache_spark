{
 "cells": [
  {
   "cell_type": "code",
   "execution_count": 1,
   "metadata": {},
   "outputs": [],
   "source": [
    "from pyspark.sql import SparkSession\n",
    "import pandas as pd\n",
    "import zipfile\n",
    "import findspark\n",
    "findspark.init()"
   ]
  },
  {
   "cell_type": "code",
   "execution_count": 2,
   "metadata": {},
   "outputs": [],
   "source": [
    "spark = SparkSession.builder \\\n",
    "    .master(\"local[*]\") \\\n",
    "    .appName(\"StartingWithSpark\") \\\n",
    "    .config(\"spark.ui.port\", \"4050\") \\\n",
    "    .config(\"spark.driver.memory\", \"2g\") \\\n",
    "    .config(\"spark.executor.memory\", \"2g\") \\\n",
    "    .getOrCreate()"
   ]
  },
  {
   "cell_type": "code",
   "execution_count": 3,
   "metadata": {},
   "outputs": [
    {
     "data": {
      "text/html": [
       "\n",
       "            <div>\n",
       "                <p><b>SparkSession - in-memory</b></p>\n",
       "                \n",
       "        <div>\n",
       "            <p><b>SparkContext</b></p>\n",
       "\n",
       "            <p><a href=\"http://192.168.0.6:4050\">Spark UI</a></p>\n",
       "\n",
       "            <dl>\n",
       "              <dt>Version</dt>\n",
       "                <dd><code>v3.5.4</code></dd>\n",
       "              <dt>Master</dt>\n",
       "                <dd><code>local[*]</code></dd>\n",
       "              <dt>AppName</dt>\n",
       "                <dd><code>StartingWithSpark</code></dd>\n",
       "            </dl>\n",
       "        </div>\n",
       "        \n",
       "            </div>\n",
       "        "
      ],
      "text/plain": [
       "<pyspark.sql.session.SparkSession at 0x23ffcee0b90>"
      ]
     },
     "execution_count": 3,
     "metadata": {},
     "output_type": "execute_result"
    }
   ],
   "source": [
    "spark"
   ]
  },
  {
   "cell_type": "code",
   "execution_count": 4,
   "metadata": {},
   "outputs": [
    {
     "data": {
      "text/plain": [
       "pyspark.sql.dataframe.DataFrame"
      ]
     },
     "execution_count": 4,
     "metadata": {},
     "output_type": "execute_result"
    }
   ],
   "source": [
    "data = [('Zeca','35'), ('Eva', '29')]\n",
    "colNames = ['Nome', 'Idade']\n",
    "df = spark.createDataFrame(data, colNames)\n",
    "type(df)"
   ]
  },
  {
   "cell_type": "code",
   "execution_count": 5,
   "metadata": {},
   "outputs": [
    {
     "data": {
      "text/plain": [
       "pyspark.sql.dataframe.DataFrame"
      ]
     },
     "execution_count": 5,
     "metadata": {},
     "output_type": "execute_result"
    }
   ],
   "source": [
    "data = [{'Nome': 'Zeca', 'Idade': '35'}, {'Nome': 'Eva', 'Idade': '29'}]\n",
    "df = spark.createDataFrame(data)\n",
    "type(df)"
   ]
  },
  {
   "cell_type": "code",
   "execution_count": 6,
   "metadata": {},
   "outputs": [
    {
     "data": {
      "text/plain": [
       "pyspark.sql.dataframe.DataFrame"
      ]
     },
     "execution_count": 6,
     "metadata": {},
     "output_type": "execute_result"
    }
   ],
   "source": [
    "data = [{'Nome': 'Zeca', 'Idade': '35'}, {'Nome': 'Eva', 'Idade': '29'}]\n",
    "pandas_df = pd.DataFrame(data)\n",
    "df = spark.createDataFrame(pandas_df)\n",
    "type(df)"
   ]
  },
  {
   "cell_type": "code",
   "execution_count": 7,
   "metadata": {},
   "outputs": [],
   "source": [
    "zipfile.ZipFile('empresas.zip', 'r').extractall('empresas')\n",
    "zipfile.ZipFile('estabelecimentos.zip', 'r').extractall('estabelecimentos')\n",
    "zipfile.ZipFile('socios.zip', 'r').extractall('socios')"
   ]
  },
  {
   "cell_type": "code",
   "execution_count": 8,
   "metadata": {},
   "outputs": [
    {
     "name": "stderr",
     "output_type": "stream",
     "text": [
      "<string>:5: SyntaxWarning: invalid escape sequence '\\{'\n",
      "<>:2: SyntaxWarning: invalid escape sequence '\\e'\n",
      "<>:5: SyntaxWarning: invalid escape sequence '\\{'\n",
      "<>:5: SyntaxWarning: invalid escape sequence '\\e'\n",
      "<string>:5: SyntaxWarning: invalid escape sequence '\\{'\n",
      "<>:2: SyntaxWarning: invalid escape sequence '\\e'\n",
      "<>:5: SyntaxWarning: invalid escape sequence '\\{'\n",
      "<>:5: SyntaxWarning: invalid escape sequence '\\e'\n",
      "C:\\Users\\felip\\AppData\\Local\\Temp\\ipykernel_22260\\2138163808.py:2: SyntaxWarning: invalid escape sequence '\\e'\n",
      "  path = os.listdir('empresas\\empresas')\n",
      "C:\\Users\\felip\\AppData\\Local\\Temp\\ipykernel_22260\\2138163808.py:5: SyntaxWarning: invalid escape sequence '\\{'\n",
      "  files.append(f'empresas\\empresas\\{f}')\n",
      "C:\\Users\\felip\\AppData\\Local\\Temp\\ipykernel_22260\\2138163808.py:5: SyntaxWarning: invalid escape sequence '\\e'\n",
      "  files.append(f'empresas\\empresas\\{f}')\n"
     ]
    }
   ],
   "source": [
    "import os\n",
    "path = os.listdir('empresas\\empresas')\n",
    "files = []\n",
    "for f in path:\n",
    "    files.append(f'empresas\\empresas\\{f}')\n",
    "df_company = spark.read.csv(files[0], sep=';', inferSchema=True)"
   ]
  },
  {
   "cell_type": "code",
   "execution_count": 9,
   "metadata": {},
   "outputs": [
    {
     "name": "stderr",
     "output_type": "stream",
     "text": [
      "<string>:5: SyntaxWarning: invalid escape sequence '\\{'\n",
      "<>:2: SyntaxWarning: invalid escape sequence '\\e'\n",
      "<>:5: SyntaxWarning: invalid escape sequence '\\{'\n",
      "<>:5: SyntaxWarning: invalid escape sequence '\\e'\n",
      "<string>:5: SyntaxWarning: invalid escape sequence '\\{'\n",
      "<>:2: SyntaxWarning: invalid escape sequence '\\e'\n",
      "<>:5: SyntaxWarning: invalid escape sequence '\\{'\n",
      "<>:5: SyntaxWarning: invalid escape sequence '\\e'\n",
      "C:\\Users\\felip\\AppData\\Local\\Temp\\ipykernel_22260\\2177619470.py:2: SyntaxWarning: invalid escape sequence '\\e'\n",
      "  path = os.listdir('estabelecimentos\\estabelecimentos')\n",
      "C:\\Users\\felip\\AppData\\Local\\Temp\\ipykernel_22260\\2177619470.py:5: SyntaxWarning: invalid escape sequence '\\{'\n",
      "  files.append(f'estabelecimentos\\estabelecimentos\\{f}')\n",
      "C:\\Users\\felip\\AppData\\Local\\Temp\\ipykernel_22260\\2177619470.py:5: SyntaxWarning: invalid escape sequence '\\e'\n",
      "  files.append(f'estabelecimentos\\estabelecimentos\\{f}')\n"
     ]
    }
   ],
   "source": [
    "import os\n",
    "path = os.listdir('estabelecimentos\\estabelecimentos')\n",
    "files = []\n",
    "for f in path:\n",
    "    files.append(f'estabelecimentos\\estabelecimentos\\{f}')\n",
    "df_establishment = spark.read.csv(files[0], sep=';', inferSchema=True)"
   ]
  },
  {
   "cell_type": "code",
   "execution_count": 10,
   "metadata": {},
   "outputs": [
    {
     "name": "stderr",
     "output_type": "stream",
     "text": [
      "<string>:5: SyntaxWarning: invalid escape sequence '\\{'\n",
      "<>:2: SyntaxWarning: invalid escape sequence '\\s'\n",
      "<>:5: SyntaxWarning: invalid escape sequence '\\{'\n",
      "<>:5: SyntaxWarning: invalid escape sequence '\\s'\n",
      "<string>:5: SyntaxWarning: invalid escape sequence '\\{'\n",
      "<>:2: SyntaxWarning: invalid escape sequence '\\s'\n",
      "<>:5: SyntaxWarning: invalid escape sequence '\\{'\n",
      "<>:5: SyntaxWarning: invalid escape sequence '\\s'\n",
      "C:\\Users\\felip\\AppData\\Local\\Temp\\ipykernel_22260\\1707609153.py:2: SyntaxWarning: invalid escape sequence '\\s'\n",
      "  path = os.listdir('socios\\socios')\n",
      "C:\\Users\\felip\\AppData\\Local\\Temp\\ipykernel_22260\\1707609153.py:5: SyntaxWarning: invalid escape sequence '\\{'\n",
      "  files.append(f'socios\\socios\\{f}')\n",
      "C:\\Users\\felip\\AppData\\Local\\Temp\\ipykernel_22260\\1707609153.py:5: SyntaxWarning: invalid escape sequence '\\s'\n",
      "  files.append(f'socios\\socios\\{f}')\n"
     ]
    }
   ],
   "source": [
    "import os\n",
    "path = os.listdir('socios\\socios')\n",
    "files = []\n",
    "for f in path:\n",
    "    files.append(f'socios\\socios\\{f}')\n",
    "df_partner = spark.read.csv(files[0], sep=';', inferSchema=True)"
   ]
  },
  {
   "cell_type": "code",
   "execution_count": 17,
   "metadata": {},
   "outputs": [
    {
     "name": "stdout",
     "output_type": "stream",
     "text": [
      "+-----+--------------------+----+---+---------+---+----+\n",
      "|  _c0|                 _c1| _c2|_c3|      _c4|_c5| _c6|\n",
      "+-----+--------------------+----+---+---------+---+----+\n",
      "| 4519|DANIELA DA SILVA ...|2135| 50|     0,00|  5|NULL|\n",
      "| 8638|JOAO DOS SANTOS F...|2135| 50|     0,00|  5|NULL|\n",
      "|11748|PANIFICADORA E CO...|2062| 49|     0,00|  1|NULL|\n",
      "|12027| L G SORVETERIA LTDA|2062| 49|     0,00|  5|NULL|\n",
      "|13289|ANDREIA CRISTINA ...|2305| 65|100000,00|  1|NULL|\n",
      "|13623|MARISTELA INDUSTR...|2062| 49|     0,00|  5|NULL|\n",
      "|17389|DAICICOM MARKETIN...|2240| 49|     0,00|  1|NULL|\n",
      "|18944|SAO GOTARDO-DISTR...|2062| 49|     0,00|  5|NULL|\n",
      "|19204|TORTARIA CAMPINAS...|2062| 49|     0,00|  1|NULL|\n",
      "|22223|S R FARIAS DA SIL...|2062| 49|     0,00|  5|NULL|\n",
      "|23015|EVANGELINA P DE J...|2135| 50|     0,00|  1|NULL|\n",
      "|24354|JUCELIA PEREIRA D...|2135| 50|     0,00|  1|NULL|\n",
      "|26708|DONEIR RODRIGUES ...|2135| 50|     0,00|  1|NULL|\n",
      "|28664|M ROCHA COML IMPO...|2062| 49|100000,00|  5|NULL|\n",
      "|28759|LULETEF CONFECCAO...|2062| 49|     0,00|  5|NULL|\n",
      "|29194|MARIA DA SILVA FE...|2135| 50|     0,00|  1|NULL|\n",
      "|33717|SOCIEDADE AMIGOS ...|3999| 16|     0,00|  5|NULL|\n",
      "|38422|SEBASTIAO ALVES D...|4014| 34|     0,00|  5|NULL|\n",
      "|47217|ITAPOA IMOBILIARI...|2062| 49|     0,00|  1|NULL|\n",
      "|56054|MARTA XAVIER DA S...|2135| 50|     0,00|  1|NULL|\n",
      "+-----+--------------------+----+---+---------+---+----+\n",
      "only showing top 20 rows\n",
      "\n"
     ]
    }
   ],
   "source": [
    "df_company.show()"
   ]
  },
  {
   "cell_type": "code",
   "execution_count": 25,
   "metadata": {},
   "outputs": [
    {
     "data": {
      "text/html": [
       "<div>\n",
       "<style scoped>\n",
       "    .dataframe tbody tr th:only-of-type {\n",
       "        vertical-align: middle;\n",
       "    }\n",
       "\n",
       "    .dataframe tbody tr th {\n",
       "        vertical-align: top;\n",
       "    }\n",
       "\n",
       "    .dataframe thead th {\n",
       "        text-align: right;\n",
       "    }\n",
       "</style>\n",
       "<table border=\"1\" class=\"dataframe\">\n",
       "  <thead>\n",
       "    <tr style=\"text-align: right;\">\n",
       "      <th></th>\n",
       "      <th>cnpj_basico</th>\n",
       "      <th>razao_social_nome_empresarial</th>\n",
       "      <th>natureza_juridica</th>\n",
       "      <th>qualificacao_do_responsavel</th>\n",
       "      <th>capital_social_da_empresa</th>\n",
       "      <th>porte_da_empresa</th>\n",
       "      <th>ente_federativo_responsavel</th>\n",
       "    </tr>\n",
       "  </thead>\n",
       "  <tbody>\n",
       "    <tr>\n",
       "      <th>0</th>\n",
       "      <td>4519</td>\n",
       "      <td>DANIELA DA SILVA CRUZ</td>\n",
       "      <td>2135</td>\n",
       "      <td>50</td>\n",
       "      <td>0,00</td>\n",
       "      <td>5</td>\n",
       "      <td>None</td>\n",
       "    </tr>\n",
       "    <tr>\n",
       "      <th>1</th>\n",
       "      <td>8638</td>\n",
       "      <td>JOAO DOS SANTOS FAGUNDES</td>\n",
       "      <td>2135</td>\n",
       "      <td>50</td>\n",
       "      <td>0,00</td>\n",
       "      <td>5</td>\n",
       "      <td>None</td>\n",
       "    </tr>\n",
       "    <tr>\n",
       "      <th>2</th>\n",
       "      <td>11748</td>\n",
       "      <td>PANIFICADORA E CONFEITARIA CONFIANCA RIO PRETO...</td>\n",
       "      <td>2062</td>\n",
       "      <td>49</td>\n",
       "      <td>0,00</td>\n",
       "      <td>1</td>\n",
       "      <td>None</td>\n",
       "    </tr>\n",
       "    <tr>\n",
       "      <th>3</th>\n",
       "      <td>12027</td>\n",
       "      <td>L G SORVETERIA LTDA</td>\n",
       "      <td>2062</td>\n",
       "      <td>49</td>\n",
       "      <td>0,00</td>\n",
       "      <td>5</td>\n",
       "      <td>None</td>\n",
       "    </tr>\n",
       "    <tr>\n",
       "      <th>4</th>\n",
       "      <td>13289</td>\n",
       "      <td>ANDREIA CRISTINA DELSIN EIRELI</td>\n",
       "      <td>2305</td>\n",
       "      <td>65</td>\n",
       "      <td>100000,00</td>\n",
       "      <td>1</td>\n",
       "      <td>None</td>\n",
       "    </tr>\n",
       "  </tbody>\n",
       "</table>\n",
       "</div>"
      ],
      "text/plain": [
       "   cnpj_basico                      razao_social_nome_empresarial  \\\n",
       "0         4519                              DANIELA DA SILVA CRUZ   \n",
       "1         8638                           JOAO DOS SANTOS FAGUNDES   \n",
       "2        11748  PANIFICADORA E CONFEITARIA CONFIANCA RIO PRETO...   \n",
       "3        12027                                L G SORVETERIA LTDA   \n",
       "4        13289                     ANDREIA CRISTINA DELSIN EIRELI   \n",
       "\n",
       "   natureza_juridica  qualificacao_do_responsavel capital_social_da_empresa  \\\n",
       "0               2135                           50                      0,00   \n",
       "1               2135                           50                      0,00   \n",
       "2               2062                           49                      0,00   \n",
       "3               2062                           49                      0,00   \n",
       "4               2305                           65                 100000,00   \n",
       "\n",
       "   porte_da_empresa ente_federativo_responsavel  \n",
       "0                 5                        None  \n",
       "1                 5                        None  \n",
       "2                 1                        None  \n",
       "3                 5                        None  \n",
       "4                 1                        None  "
      ]
     },
     "execution_count": 25,
     "metadata": {},
     "output_type": "execute_result"
    }
   ],
   "source": [
    "df_company.limit(5).toPandas()"
   ]
  },
  {
   "cell_type": "code",
   "execution_count": 19,
   "metadata": {},
   "outputs": [],
   "source": [
    "campanyColNames = ['cnpj_basico', 'razao_social_nome_empresarial', 'natureza_juridica', 'qualificacao_do_responsavel', 'capital_social_da_empresa', 'porte_da_empresa', 'ente_federativo_responsavel']"
   ]
  },
  {
   "cell_type": "code",
   "execution_count": 21,
   "metadata": {},
   "outputs": [],
   "source": [
    "for index, colName in enumerate(campanyColNames):\n",
    "    df_company = df_company.withColumnRenamed(f'_c{index}', colName)"
   ]
  },
  {
   "cell_type": "code",
   "execution_count": 24,
   "metadata": {},
   "outputs": [
    {
     "data": {
      "text/plain": [
       "['cnpj_basico',\n",
       " 'razao_social_nome_empresarial',\n",
       " 'natureza_juridica',\n",
       " 'qualificacao_do_responsavel',\n",
       " 'capital_social_da_empresa',\n",
       " 'porte_da_empresa',\n",
       " 'ente_federativo_responsavel']"
      ]
     },
     "execution_count": 24,
     "metadata": {},
     "output_type": "execute_result"
    }
   ],
   "source": [
    "df_company.columns"
   ]
  },
  {
   "cell_type": "markdown",
   "metadata": {},
   "source": [
    "# Databricks"
   ]
  },
  {
   "cell_type": "markdown",
   "metadata": {},
   "source": []
  }
 ],
 "metadata": {
  "kernelspec": {
   "display_name": "Python 3",
   "language": "python",
   "name": "python3"
  },
  "language_info": {
   "codemirror_mode": {
    "name": "ipython",
    "version": 3
   },
   "file_extension": ".py",
   "mimetype": "text/x-python",
   "name": "python",
   "nbconvert_exporter": "python",
   "pygments_lexer": "ipython3",
   "version": "3.12.8"
  }
 },
 "nbformat": 4,
 "nbformat_minor": 2
}
